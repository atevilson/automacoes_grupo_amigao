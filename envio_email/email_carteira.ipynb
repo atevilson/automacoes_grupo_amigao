{
 "cells": [
  {
   "cell_type": "markdown",
   "id": "df6c800f-23d0-4233-97cc-17de4e23472d",
   "metadata": {
    "tags": []
   },
   "source": [
    "# Automação de envio de email para Carteira de pedidos"
   ]
  },
  {
   "cell_type": "code",
   "execution_count": 1,
   "id": "3b2d42aa-8415-470f-81f4-9e8a22819844",
   "metadata": {
    "tags": []
   },
   "outputs": [],
   "source": [
    "from openpyxl import load_workbook\n",
    "import win32com.client as win32\n",
    "import datetime\n",
    "import locale\n",
    "import base64\n",
    "import os"
   ]
  },
  {
   "cell_type": "code",
   "execution_count": 2,
   "id": "c435258f-965c-4eac-8798-8606c9181da9",
   "metadata": {},
   "outputs": [],
   "source": [
    "absoluto = os.path.abspath(os.getcwd()) # caminho absoluto desse script"
   ]
  },
  {
   "cell_type": "code",
   "execution_count": null,
   "id": "ab30989f-05bb-4d37-841a-14d546187efd",
   "metadata": {},
   "outputs": [],
   "source": [
    "# caminho do anexo em xlsx da carteira e da assinatura de email\n",
    "anexo = os.path.join(absoluto, \"CARTEIRA_PEDIDOS\\\\PEDIDOS_COMPRA.xlsx\")\n",
    "ass = os.path.join(absoluto, \"ass\\\\ass.jpg\")"
   ]
  },
  {
   "cell_type": "code",
   "execution_count": null,
   "id": "31aa49fc-eaf4-46aa-901f-d8d37241c0b7",
   "metadata": {},
   "outputs": [],
   "source": [
    "data_hoje = datetime.datetime.now().strftime('%d/%m/%y')"
   ]
  },
  {
   "cell_type": "code",
   "execution_count": null,
   "id": "4ce49cff-51ef-4f83-9e23-0184af38f14b",
   "metadata": {
    "tags": []
   },
   "outputs": [
    {
     "data": {
      "text/plain": [
       "'pt_BR.UTF-8'"
      ]
     },
     "execution_count": 5,
     "metadata": {},
     "output_type": "execute_result"
    }
   ],
   "source": [
    "locale.setlocale(locale.LC_ALL, 'pt_BR.UTF-8')"
   ]
  },
  {
   "cell_type": "code",
   "execution_count": null,
   "id": "cfaff6c8-5cbc-4f64-9afa-b1b7be4db91b",
   "metadata": {
    "tags": []
   },
   "outputs": [],
   "source": [
    "# tratamento para pegar o mês atual e o último dia do mês para anexar no corpo de email\n",
    "hoje = datetime.datetime.now()\n",
    "ultimo_dia_mes = datetime.datetime(hoje.year, hoje.month % 12 + 1, 1) - datetime.timedelta(days=1)\n",
    "mes_vigente = ultimo_dia_mes.strftime(\"%B\")\n",
    "ultimo_dia_mes = ultimo_dia_mes.day"
   ]
  },
  {
   "cell_type": "code",
   "execution_count": null,
   "id": "6090efb7-5231-449f-900e-3b0d0858ecfb",
   "metadata": {},
   "outputs": [],
   "source": [
    "outlook = win32.Dispatch('Outlook.Application') # inicializa o outlook"
   ]
  },
  {
   "cell_type": "code",
   "execution_count": null,
   "id": "47cf7444-32d9-43c6-892e-36fedd3c1c6c",
   "metadata": {},
   "outputs": [],
   "source": [
    "mail = outlook.CreateItem(0)"
   ]
  },
  {
   "cell_type": "code",
   "execution_count": null,
   "id": "fca3a0fa-4f04-4f19-a014-6f1a853e3f09",
   "metadata": {},
   "outputs": [],
   "source": [
    "mail.Subject = f'{data_hoje} - Lorem ipsum dolor sit amet. Ut blanditiis quaerat sed reprehenderit' # assunto\n",
    "mail.To = 'example@email.com' # contato principal\n",
    "mail.CC = 'example@email.com; example@email.com; example@email.com;' # contatos CC"
   ]
  },
  {
   "cell_type": "code",
   "execution_count": null,
   "id": "33345e25-14d6-47c5-8a7c-6b239e3b8e24",
   "metadata": {},
   "outputs": [],
   "source": [
    "with open(ass, \"rb\") as arquivo: \n",
    "    img = arquivo.read()\n",
    "    img_ass = base64.b64encode(img).decode()"
   ]
  },
  {
   "cell_type": "code",
   "execution_count": null,
   "id": "9b4aed95-1eeb-4021-b650-cb7d9ecee4e9",
   "metadata": {
    "tags": []
   },
   "outputs": [],
   "source": [
    "# corpo de email\n",
    "mail.HTMLBody = f\"\"\"\n",
    "<html>\n",
    "  <body>\n",
    "    <p>Olá, tudo bem? \\n\\n</p>\n",
    "    \n",
    "    <p>Lorem ipsum dolor sit amet. Aut assumenda quis ut perspiciatis fugit ut voluptatibus aspernatur qui earum error eum nihil mollitia qui corrupti autem qui odit até o dia {ultimo_dia_mes} de {mes_vigente}.\\n\\n</p>\n",
    "    \n",
    "    <p>Lorem ipsum dolor sit amet. Aut assumenda quis ut perspiciatis fugit ut voluptatibus aspernatur qui earum error eum nihil mollitia qui corrupti autem qui odit\\n\\n</p>\n",
    "    \n",
    "    <p>Att,\\n\\n</p>\n",
    "    <p><img src=\"data:image/png;base64,{img_ass}\" alt=\"Assinatura\"></p>\n",
    "  </body>\n",
    "</html>\n",
    "\"\"\"\n",
    "\n",
    "mail.Attachments.Add(anexo) # anexa o relatório\n",
    "\n",
    "mail.Send()\n",
    "print(\"Relatório enviado!\")"
   ]
  }
 ],
 "metadata": {
  "kernelspec": {
   "display_name": "Python 3 (ipykernel)",
   "language": "python",
   "name": "python3"
  },
  "language_info": {
   "codemirror_mode": {
    "name": "ipython",
    "version": 3
   },
   "file_extension": ".py",
   "mimetype": "text/x-python",
   "name": "python",
   "nbconvert_exporter": "python",
   "pygments_lexer": "ipython3",
   "version": "3.11.7"
  }
 },
 "nbformat": 4,
 "nbformat_minor": 5
}
