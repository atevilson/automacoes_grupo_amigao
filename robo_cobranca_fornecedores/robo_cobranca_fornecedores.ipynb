{
 "cells": [
  {
   "cell_type": "markdown",
   "id": "2a4f23fa-3701-429b-95d3-85b54412eff9",
   "metadata": {},
   "source": [
    "## Robo de cobrança de pedidos de fornecedores CDs PR e SP Varejo - Grupo Amigão"
   ]
  },
  {
   "cell_type": "markdown",
   "id": "ebb761ac-625c-44b5-b467-84e62e7c9707",
   "metadata": {},
   "source": [
    "> Essa **automação** envia e-mails de cobrança de agendamentos por fornecedor para cada pedido **ativo** que constar sem agenda no relatório automatizado carteira de pedidos."
   ]
  },
  {
   "cell_type": "markdown",
   "id": "d25ae1d6-e460-4611-a61d-74466b8a7def",
   "metadata": {
    "tags": []
   },
   "source": [
    ">Dica:\n",
    ">\n",
    ">Para executar esse código manualmente na totalidade, clique em **RUN** e depois em **RUN ALL CELLS**."
   ]
  },
  {
   "cell_type": "code",
   "execution_count": null,
   "id": "355b530c-ddb6-45cd-a9da-d02c2000d3d0",
   "metadata": {
    "tags": []
   },
   "outputs": [],
   "source": [
    "# libs\n",
    "import win32com.client as win32\n",
    "import pandas as pd\n",
    "from datetime import datetime, timedelta"
   ]
  },
  {
   "cell_type": "code",
   "execution_count": null,
   "id": "3f1d4025-7528-4361-9f14-0bb6fa46b5da",
   "metadata": {
    "tags": []
   },
   "outputs": [],
   "source": [
    "# bases\n",
    "base = pd.read_excel('planilhas/base_dashboard.xlsx')\n",
    "emails_forn = pd.read_excel('planilhas/emails_forn.xlsx')\n",
    "emails_amigao = pd.read_excel('planilhas/emails_amigao.xlsx')"
   ]
  },
  {
   "cell_type": "code",
   "execution_count": null,
   "id": "f4c1c3ea-791e-4703-96db-8e5a2c5fdcf2",
   "metadata": {
    "tags": []
   },
   "outputs": [],
   "source": [
    "data_atual = datetime.now().date()"
   ]
  },
  {
   "cell_type": "code",
   "execution_count": null,
   "id": "dcc9fed1-79f7-4a20-935a-5a30500ff80f",
   "metadata": {
    "tags": []
   },
   "outputs": [],
   "source": [
    "# filtra fornecedores com dt_entrega maior ou igual ao dial atual\n",
    "base_dashboard = base[base['DT_ENTREGA'].dt.date >= data_atual + timedelta(days=3)] "
   ]
  },
  {
   "cell_type": "code",
   "execution_count": null,
   "id": "701b8cd1-4e48-4ecc-a938-e1116154e3e1",
   "metadata": {
    "tags": []
   },
   "outputs": [],
   "source": [
    "# filtra fornecedores sem agendamento\n",
    "fornecedores_sem_agendamento = base_dashboard[base_dashboard['DT_AGENDA'].str.startswith('SEM')]"
   ]
  },
  {
   "cell_type": "code",
   "execution_count": null,
   "id": "2d55b022-bb7c-44e7-a2ad-28cbcc3bb4bd",
   "metadata": {
    "tags": []
   },
   "outputs": [],
   "source": [
    "# filtra pedidos do tipo original e CD\n",
    "fornecedores_cd_original = fornecedores_sem_agendamento[(fornecedores_sem_agendamento['Classificacao do pedido'] == 'Original') & \n",
    "                            (fornecedores_sem_agendamento['LOCAL_ENT'] == 'CD')]"
   ]
  },
  {
   "cell_type": "code",
   "execution_count": null,
   "id": "2be70224-caef-418c-bd64-13b3b89ad9fa",
   "metadata": {
    "tags": []
   },
   "outputs": [],
   "source": [
    "#fornecedores_cd_original = fornecedores_cd_original[fornecedores_cd_original['N_LJ'] != 745]"
   ]
  },
  {
   "cell_type": "code",
   "execution_count": null,
   "id": "266e7404-c479-4ad0-bc69-7c8606fb277c",
   "metadata": {},
   "outputs": [],
   "source": [
    "# filtro sem CDs, pegar pedidos somente de lojas\n",
    "fornecedores_cd_original = fornecedores_cd_original[(fornecedores_cd_original['N_LJ'] != 745) & (fornecedores_cd_original['N_LJ'] != 61)]"
   ]
  },
  {
   "cell_type": "code",
   "execution_count": null,
   "id": "c779681e-c55f-4f46-9580-ce6215dc3556",
   "metadata": {
    "tags": []
   },
   "outputs": [],
   "source": [
    "fornecedores_validos = fornecedores_cd_original.drop_duplicates(subset=\"PEDIDO\")"
   ]
  },
  {
   "cell_type": "code",
   "execution_count": null,
   "id": "9e2f53f1-5e92-4d53-877d-a2f6387fee63",
   "metadata": {},
   "outputs": [],
   "source": [
    "# função de envio e-mail\n",
    "def send_email(to, cc, subject, body):\n",
    "    outlook = win32.Dispatch('outlook.application')\n",
    "    mail = outlook.CreateItem(0)  # inicializa o outlook\n",
    "    \n",
    "    to_unique = list(set(to))\n",
    "    cc_unique = list(set(cc))\n",
    "    \n",
    "    mail.To = ';'.join(to_unique)\n",
    "    \n",
    "    if any(cc_unique):\n",
    "        mail.CC = ';'.join(cc_unique)\n",
    "\n",
    "    mail.Subject = subject\n",
    "    mail.Body = body\n",
    "    \n",
    "    try:\n",
    "        mail.Send()\n",
    "        return True \n",
    "    except Exception as e:\n",
    "        print(f\"Erro ao enviar e-mail: {str(e)}\")\n",
    "        return False \n",
    "\n",
    "# contador emails\n",
    "emails_enviados = 0\n",
    "emails_nao_enviados = 0\n",
    "\n",
    "# agrupamento de fornecedores\n",
    "for (usuario, depto, nome_fornecedor), grupo_pedidos in fornecedores_validos.groupby(['NOME USUARIO', 'DEP', 'DESC_FORN']):\n",
    "\n",
    "    outlook = win32.Dispatch('outlook.application')\n",
    "    mail = outlook.CreateItem(0)  # inicializa o outlook\n",
    "\n",
    "    email_to = emails_forn.loc[emails_forn['nome_fornecedor'] == nome_fornecedor, 'email'].tolist()\n",
    "\n",
    "    if not any(email_to):\n",
    "        continue \n",
    "\n",
    "    email_cc = emails_forn.loc[emails_forn['nome_fornecedor'] == nome_fornecedor, 'email_forn_cc'].tolist()\n",
    "\n",
    "    email_to = [str(email) for email in email_to]\n",
    "    email_cc = [str(email) for email in email_cc]\n",
    "\n",
    "    email_to = list(set(email_to))\n",
    "    email_cc = list(set(email_cc))\n",
    "\n",
    "    depto_fornecedor = grupo_pedidos.iloc[0]['DEP']\n",
    "    \n",
    "    if any(email_to):\n",
    "\n",
    "        mail.To = ';'.join(email_to)\n",
    "        \n",
    "        if any(email_cc):\n",
    "            mail.CC = ';'.join(email_cc)\n",
    "\n",
    "        depto_fornecedor = grupo_pedidos.iloc[0]['DEP']\n",
    "        if depto_fornecedor in emails_amigao['depto'].values:\n",
    "            contatos_amigao = emails_amigao.loc[emails_amigao['depto'] == depto_fornecedor, 'contatos_amigao'].tolist()\n",
    "            \n",
    "            if any(contatos_amigao):\n",
    "                email_cc += contatos_amigao\n",
    "\n",
    "                email_cc = list(set(email_cc))\n",
    "\n",
    "    # corpo do e-mail\n",
    "    corpo_email = f\"\"\"Prezado Lorem Ipsum:\n",
    "\n",
    "Lorem ipsum dolor sit amet, consectetur adipiscing elit, sed do eiusmod tempor incididunt ut labore et dolore magna aliqua. Ut enim ad minim veniam, quis nostrud exercitation ullamco laboris nisi ut aliquip ex ea commodo consequat. Duis aute irure dolor in reprehenderit in voluptate velit esse cillum dolore eu fugiat nulla pariatur. Excepteur sint occaecat cupidatat non proident, sunt in culpa qui officia deserunt mollit anim id est laborum.\n",
    "\n",
    "FORNECEDOR: {nome_fornecedor}\n",
    "COD_FORN: {grupo_pedidos.iloc[0]['COD_FORN']}\n",
    "DEPARTAMENTO: {depto_fornecedor}\n",
    "COMPRADOR: {usuario}\n",
    "\n",
    "PEDIDOS:\\n\"\"\"\n",
    "    for (_, pedido) in grupo_pedidos.groupby(['DEP', 'NOME USUARIO', 'DESC_FORN', 'PEDIDO']):\n",
    "        lead_time = pedido.iloc[0]['DT_ENTREGA'].strftime('%d/%m/%y')  # formata datas para dd/mm/yy\n",
    "        data_emissao = pedido.iloc[0]['DT_EMISSAO'].strftime('%d/%m/%y')  # formata datas para dd/mm/yy\n",
    "        corpo_email += f\"N° {pedido.iloc[0]['PEDIDO']} | EMITIDO EM: {data_emissao} | AGENDAR ATÉ: {lead_time}\\n\" \n",
    "\n",
    "    corpo_email += \"\"\"\n",
    "\n",
    "\n",
    "Quis autem vel eum iure reprehenderit qui in ea voluptate velit esse quam nihil molestiae consequatur, vel illum qui dolorem eum fugiat quo voluptas nulla pariatur?\n",
    "\n",
    "Letraset sheets containing Lorem Ipsum passages, and more recently with desktop publishing.\n",
    "\n",
    "Lorem Ipsum.\n",
    "\"\"\"\n",
    "\n",
    "    if send_email(email_to, email_cc, 'Lorem – Letraset sheets containing Lorem Ipsum passages - Lorem Ipsum', corpo_email):\n",
    "        emails_enviados += 1\n",
    "        print(f'E-mail enviado para {nome_fornecedor} ({usuario}, {depto})')\n",
    "    else:\n",
    "        emails_nao_enviados += 1\n",
    "\n",
    "# log contadores envios\n",
    "print(f'Total de e-mails enviados: {emails_enviados}')\n",
    "print(f'Total de e-mails não enviados: {emails_nao_enviados}')"
   ]
  }
 ],
 "metadata": {
  "kernelspec": {
   "display_name": "Python 3",
   "language": "python",
   "name": "python3"
  },
  "language_info": {
   "codemirror_mode": {
    "name": "ipython",
    "version": 3
   },
   "file_extension": ".py",
   "mimetype": "text/x-python",
   "name": "python",
   "nbconvert_exporter": "python",
   "pygments_lexer": "ipython3",
   "version": "3.12.8"
  }
 },
 "nbformat": 4,
 "nbformat_minor": 5
}
